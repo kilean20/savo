{
 "cells": [
  {
   "cell_type": "code",
   "execution_count": null,
   "id": "6f12e246",
   "metadata": {},
   "outputs": [],
   "source": [
    "# ! pip install -e ../../savo"
   ]
  },
  {
   "cell_type": "code",
   "execution_count": null,
   "id": "451f0cad",
   "metadata": {},
   "outputs": [],
   "source": [
    "import time\n",
    "import datetime\n",
    "\n",
    "import torch\n",
    "import numpy as np\n",
    "import matplotlib.pyplot as plt\n",
    "\n",
    "import sys\n",
    "sys.path.append('../')  #for savo import\n",
    "sys.path.append('../../machineIO/')  #for machineIO import\n",
    "from savo import savo\n",
    "from savo.optim import adam\n",
    "from machineIO.util import plot_2D_projection, dictClass\n",
    "from machineIO.objFunc import SingleTaskObjectiveFunction\n",
    "from machineIO.construct_machineIO import construct_machineIO\n",
    "from machineIO import Evaluator\n",
    "from epics import caget\n",
    "import pickle"
   ]
  },
  {
   "cell_type": "code",
   "execution_count": null,
   "id": "d8bbcc10",
   "metadata": {},
   "outputs": [],
   "source": [
    "# PVs = np.loadtxt('LEBT_phys_pvlist.txt',dtype=str)\n",
    "# [pv.replace(':DCH_',':PSC2_').replace(':DCV_',':PSC1_').replace(':SOLR_',':PSOL_') for pv in PVs if ':DC' in pv or ':SOL' in pv]"
   ]
  },
  {
   "cell_type": "code",
   "execution_count": null,
   "id": "ce8ad9ef",
   "metadata": {},
   "outputs": [],
   "source": [
    "FC814 = 8\n",
    "budget = 100\n",
    "ninit = 30\n",
    "model_train_budget = 200\n",
    "lr = 1\n",
    "set_manually = False"
   ]
  },
  {
   "cell_type": "code",
   "execution_count": null,
   "id": "88855c05",
   "metadata": {},
   "outputs": [],
   "source": [
    "SCS = caget(\"ACS_DIAG:DEST:ACTIVE_ION_SOURCE\")\n",
    "ion = caget(\"FE_ISRC\"+str(SCS)+\":BEAM:ELMT_BOOK\")\n",
    "Q = caget(\"FE_ISRC\"+str(SCS)+\":BEAM:Q_BOOK\")\n",
    "A = caget(\"FE_ISRC\"+str(SCS)+\":BEAM:A_BOOK\")\n",
    "AQ = A/Q\n",
    "ion = str(A)+ion+str(Q)\n",
    "\n",
    "now0 = datetime.datetime.now()\n",
    "fname = now0.strftime('%Y%m%d_%H%M')+'['+ion+'][savo][MEBT]beamtest'\n",
    "fname"
   ]
  },
  {
   "cell_type": "code",
   "execution_count": null,
   "id": "516dc6bd",
   "metadata": {},
   "outputs": [],
   "source": [
    "machineIO = construct_machineIO(isOK_PVs = [],isOK_vals=[])\n",
    "machineIO._test = True\n",
    "machineIO._ensure_set_timeout = 30\n",
    "machineIO._fetch_data_time_span = 2\n",
    "machineIO._ensure_set_timewait_after_ramp = 0.2"
   ]
  },
  {
   "cell_type": "code",
   "execution_count": null,
   "id": "6f7e7919",
   "metadata": {},
   "outputs": [],
   "source": [
    "control_CSETs = [\n",
    "'FE_LEBT:PSC2_D0773',\n",
    "'FE_LEBT:PSC1_D0773',\n",
    "#'FE_LEBT:PSOL_D0787',\n",
    "'FE_LEBT:PSC2_D0790',\n",
    "'FE_LEBT:PSC1_D0790',\n",
    "#'FE_LEBT:PSOL_D0802',\n",
    "'FE_LEBT:PSC2_D0805',\n",
    "'FE_LEBT:PSC1_D0805',\n",
    "#'FE_LEBT:PSOL_D0818',\n",
    "'FE_LEBT:PSC2_D0821',\n",
    "'FE_LEBT:PSC1_D0821',\n",
    "'FE_LEBT:PSC2_D0840',\n",
    "'FE_LEBT:PSC1_D0840',\n",
    "'FE_LEBT:PSC2_D0868',\n",
    "'FE_LEBT:PSC1_D0868',\n",
    "'FE_LEBT:PSC2_D0880',\n",
    "'FE_LEBT:PSC1_D0880',\n",
    "'FE_LEBT:PSC2_D0901',\n",
    "'FE_LEBT:PSC1_D0901',\n",
    "'FE_LEBT:PSC2_D0929',\n",
    "'FE_LEBT:PSC1_D0929',\n",
    "'FE_LEBT:PSC2_D0948',\n",
    "'FE_LEBT:PSC1_D0948',\n",
    "'FE_LEBT:PSOL_D0951',\n",
    "'FE_LEBT:PSC2_D0964',\n",
    "'FE_LEBT:PSC1_D0964',\n",
    "'FE_LEBT:PSOL_D0967',\n",
    "'FE_LEBT:PSC2_D0979',\n",
    "'FE_LEBT:PSC1_D0979',\n",
    "'FE_LEBT:PSOL_D0982',\n",
    "'FE_LEBT:PSC2_D0992',\n",
    "'FE_LEBT:PSC1_D0992',\n",
    "'FE_LEBT:PSOL_D0995',\n",
    "# 'FE_MEBT:PSC2_D1062',\n",
    "# 'FE_MEBT:PSC1_D1062',\n",
    "]"
   ]
  },
  {
   "cell_type": "code",
   "execution_count": null,
   "id": "d40171ab",
   "metadata": {},
   "outputs": [],
   "source": [
    "ndim"
   ]
  },
  {
   "cell_type": "code",
   "execution_count": null,
   "id": "cd322f52",
   "metadata": {},
   "outputs": [],
   "source": [
    "objective_goal= {\n",
    "    'FE_MEBT:BPM_D1056:XPOS_RD': -0.3960103833349608,\n",
    "    'FE_MEBT:BPM_D1056:YPOS_RD': 0.6678681961462211,\n",
    "    'FE_MEBT:BPM_D1056:PHASE_RD': 78.75262742941518,\n",
    "    'FE_MEBT:BPM_D1072:XPOS_RD': 0.18746895673132966,\n",
    "    'FE_MEBT:BPM_D1072:YPOS_RD': 0.19623165740431964,\n",
    "    'FE_MEBT:BPM_D1072:PHASE_RD': -25.102889168544564,\n",
    "    'FE_MEBT:BPM_D1094:XPOS_RD': -0.18243672772460348,\n",
    "    'FE_MEBT:BPM_D1094:YPOS_RD': -1.0409382935331426,\n",
    "    'FE_MEBT:BPM_D1094:PHASE_RD': -17.109880065240283,\n",
    "    'FE_MEBT:BCM_D1055:AVGPK_RD': {'more than': 0.99*FC814},\n",
    "    'FE_MEBT:FC_D1102:PKAVG_RD' : {'more than':  0.8*FC814},\n",
    "}"
   ]
  },
  {
   "cell_type": "code",
   "execution_count": null,
   "id": "fa3493b8",
   "metadata": {},
   "outputs": [],
   "source": [
    "objective_tolerance = {\n",
    "    'FE_MEBT:BPM_D1056:XPOS_RD' : 1,\n",
    "    'FE_MEBT:BPM_D1056:YPOS_RD' : 1,\n",
    "    'FE_MEBT:BPM_D1056:PHASE_RD': 1,\n",
    "    'FE_MEBT:BPM_D1072:XPOS_RD' : 1,\n",
    "    'FE_MEBT:BPM_D1072:YPOS_RD' : 1,\n",
    "    'FE_MEBT:BPM_D1072:PHASE_RD': 1,\n",
    "    'FE_MEBT:BPM_D1094:XPOS_RD' : 1,\n",
    "    'FE_MEBT:BPM_D1094:YPOS_RD' : 1,\n",
    "    'FE_MEBT:BPM_D1094:PHASE_RD': 1,\n",
    "    'FE_MEBT:BCM_D1055:AVGPK_RD': 0.05*FC814,\n",
    "    'FE_MEBT:FC_D1102:PKAVG_RD' : 0.05*0.8*FC814,\n",
    "}"
   ]
  },
  {
   "cell_type": "code",
   "execution_count": null,
   "id": "2b4c166e",
   "metadata": {},
   "outputs": [],
   "source": [
    "objective_weight= {\n",
    "    'FE_MEBT:BPM_D1056:XPOS_RD' : 1.0,\n",
    "    'FE_MEBT:BPM_D1056:YPOS_RD' : 1.0,\n",
    "    'FE_MEBT:BPM_D1056:PHASE_RD': 1.0,\n",
    "    'FE_MEBT:BPM_D1072:XPOS_RD' : 0.8,\n",
    "    'FE_MEBT:BPM_D1072:YPOS_RD' : 0.8,\n",
    "    'FE_MEBT:BPM_D1072:PHASE_RD': 0.8,\n",
    "    'FE_MEBT:BPM_D1094:XPOS_RD' : 0.5,\n",
    "    'FE_MEBT:BPM_D1094:YPOS_RD' : 0.5,\n",
    "    'FE_MEBT:BPM_D1094:PHASE_RD': 0.5,\n",
    "    'FE_MEBT:BCM_D1055:AVGPK_RD': 2,\n",
    "    'FE_MEBT:FC_D1102:PKAVG_RD' : 2,\n",
    "}"
   ]
  },
  {
   "cell_type": "code",
   "execution_count": null,
   "id": "86c701aa",
   "metadata": {},
   "outputs": [],
   "source": [
    "monitor_RDs   = list(objective_goal.keys())\n",
    "objective_PVs = monitor_RDs\n",
    "composite_objective_name = 'composite_obj'"
   ]
  },
  {
   "cell_type": "markdown",
   "id": "1bc6b2b7",
   "metadata": {},
   "source": [
    "# obj_func"
   ]
  },
  {
   "cell_type": "code",
   "execution_count": null,
   "id": "916a74c4-3ae0-4efb-b277-e5e8ef38e74d",
   "metadata": {},
   "outputs": [],
   "source": [
    "obj_func = SingleTaskObjectiveFunction(\n",
    "    objective_PVs = monitor_RDs,\n",
    "    composite_objective_name = composite_objective_name,\n",
    "    custom_function = None,\n",
    "    objective_goal = objective_goal, \n",
    "    objective_weight = objective_weight,\n",
    "    objective_tolerance = objective_tolerance,\n",
    ")"
   ]
  },
  {
   "cell_type": "code",
   "execution_count": null,
   "id": "bd1366b4-545d-4867-8cd1-3aa077b82f0b",
   "metadata": {},
   "outputs": [],
   "source": [
    "evaluator = Evaluator(\n",
    "    machineIO = machineIO,\n",
    "    control_CSETs = control_CSETs,\n",
    "    control_RDs = control_RDs,\n",
    "    control_tols = control_tols,\n",
    "    monitor_RDs = monitor_RDs,\n",
    "    df_manipulators = [obj_func.calculate_objectives_from_df],\n",
    "    set_manually = set_manually,    \n",
    ")\n",
    "control_init = evaluator.read()[control_CSETs].mean().values\n",
    "control_init"
   ]
  },
  {
   "cell_type": "code",
   "execution_count": null,
   "id": "31d8c4f5-659c-4f23-880c-25719fbe00d7",
   "metadata": {},
   "outputs": [],
   "source": [
    "def plot_hist(history):\n",
    "    fig, ax = plt.subplots(1,2,figsize=(8,3),dpi=96)\n",
    "    xaxis = np.arange(len(history['y']))\n",
    "    ax[0].plot(xaxis, history['y'])\n",
    "    ax[0].set_xlabel('epoch');\n",
    "    ax[0].set_ylabel('objective');\n",
    "    ax[1].plot(xaxis, history['cpu_time'])\n",
    "    ax[1].set_xlabel('epoch');\n",
    "    ax[1].set_ylabel('cpu_time');\n",
    "    fig.tight_layout()"
   ]
  },
  {
   "cell_type": "markdown",
   "id": "854f2746",
   "metadata": {},
   "source": [
    "# ES"
   ]
  },
  {
   "cell_type": "code",
   "execution_count": null,
   "id": "558b04a3-6222-4175-af34-64edf960ade2",
   "metadata": {},
   "outputs": [],
   "source": [
    "df,ramp = evaluator._set_and_read(control_init)\n",
    "evaluator.clear_history()\n",
    "sv = savo(control_CSETs, control_RDs, control_min, control_max, control_maxstep, objective_PVs, composite_objective_name, evaluator)\n",
    "for i in range(budget):\n",
    "    sv.step(lr=0,lrES=1)"
   ]
  },
  {
   "cell_type": "code",
   "execution_count": null,
   "id": "e41b86ad-5c84-4f0e-8856-02bb026dc6e9",
   "metadata": {},
   "outputs": [],
   "source": [
    "plot_hist(sv.history)"
   ]
  },
  {
   "cell_type": "code",
   "execution_count": null,
   "id": "7497a322",
   "metadata": {},
   "outputs": [],
   "source": [
    "pickle.dump(sv.history,open(fname+'_ES.pkl','wb'))\n",
    "pickle.dump(evaluator.get_history()['mean'],open(fname+'_ES_eval.pkl','wb'))"
   ]
  },
  {
   "cell_type": "markdown",
   "id": "70901f16-fd6e-4a18-b7b6-d644280316b1",
   "metadata": {},
   "source": [
    "# ES + adamSG"
   ]
  },
  {
   "cell_type": "code",
   "execution_count": null,
   "id": "588ec596-cc4b-4090-ae33-811fc00a88b4",
   "metadata": {
    "scrolled": true
   },
   "outputs": [],
   "source": [
    "df,ramp = evaluator._set_and_read(control_init)\n",
    "evaluator.clear_history()\n",
    "sv = savo(control_CSETs, control_RDs, control_min, control_max, control_maxstep, objective_PVs, composite_objective_name, evaluator, \n",
    "          model_train_budget = model_train_budget, optimizer=adam())\n",
    "for i in range(ninit):\n",
    "    sv.step(lr=0,lrES=1)\n",
    "for i in range(budget-ninit):\n",
    "    sv.step(lr=lr,lrES=1)"
   ]
  },
  {
   "cell_type": "code",
   "execution_count": null,
   "id": "6d5748f0-020a-4417-ba31-2b353029b5c3",
   "metadata": {},
   "outputs": [],
   "source": [
    "plot_hist(sv.history)"
   ]
  },
  {
   "cell_type": "code",
   "execution_count": null,
   "id": "6305e301",
   "metadata": {},
   "outputs": [],
   "source": [
    "pickle.dump(sv.history,open(fname+'_ES_adamSG.pkl','wb'))\n",
    "pickle.dump(evaluator.get_history()['mean'],open(fname+'_ES_adamSG_eval.pkl','wb'))"
   ]
  },
  {
   "cell_type": "markdown",
   "id": "89aff6b1-4b93-4fc4-852c-b47692914487",
   "metadata": {},
   "source": [
    "# ES + SG"
   ]
  },
  {
   "cell_type": "code",
   "execution_count": null,
   "id": "1d9fd057-5d29-4a09-8a39-8a2b8df808a5",
   "metadata": {
    "scrolled": true
   },
   "outputs": [],
   "source": [
    "df,ramp = evaluator._set_and_read(control_init)\n",
    "evaluator.clear_history()\n",
    "sv = savo(control_CSETs, control_RDs, control_min, control_max, control_maxstep, objective_PVs, composite_objective_name, evaluator, \n",
    "          model_train_budget = model_train_budget)\n",
    "for i in range(ninit):\n",
    "    sv.step(lr=0,lrES=1)\n",
    "for i in range(budget-ninit):\n",
    "    sv.step(lr=lr,lrES=1)"
   ]
  },
  {
   "cell_type": "code",
   "execution_count": null,
   "id": "d91ac145-5487-4ecd-9297-b5868dff3c0a",
   "metadata": {},
   "outputs": [],
   "source": [
    "plot_hist(sv.history)"
   ]
  },
  {
   "cell_type": "code",
   "execution_count": null,
   "id": "e92278b0",
   "metadata": {},
   "outputs": [],
   "source": [
    "pickle.dump(sv.history,open(fname+'_ES_SG.pkl','wb'))\n",
    "pickle.dump(evaluator.get_history()['mean'],open(fname+'_ES_SG_eval.pkl','wb'))"
   ]
  },
  {
   "cell_type": "markdown",
   "id": "fe31e6e6-0fa1-4d83-86c4-d863c853cee5",
   "metadata": {},
   "source": [
    "# ES + SG penalize_uncertain_gradient"
   ]
  },
  {
   "cell_type": "code",
   "execution_count": null,
   "id": "12555a58-74f1-463f-9693-3cfed63caa0d",
   "metadata": {
    "scrolled": true
   },
   "outputs": [],
   "source": [
    "df,ramp = evaluator._set_and_read(control_init)\n",
    "evaluator.clear_history()\n",
    "sv = savo(control_CSETs, control_RDs, control_min, control_max, control_maxstep, objective_PVs, composite_objective_name, evaluator, \n",
    "          model_train_budget = model_train_budget)\n",
    "for i in range(ninit):\n",
    "    sv.step(lr=0,lrES=1)\n",
    "for i in range(budget-ninit):\n",
    "    sv.step(lr=lr,lrES=1,penalize_uncertain_gradient=True)"
   ]
  },
  {
   "cell_type": "code",
   "execution_count": null,
   "id": "ed17ff1f-92e7-4aa4-a4af-b33db61c7123",
   "metadata": {},
   "outputs": [],
   "source": [
    "plot_hist(sv.history)"
   ]
  },
  {
   "cell_type": "code",
   "execution_count": null,
   "id": "33f01f59",
   "metadata": {},
   "outputs": [],
   "source": [
    "pickle.dump(sv.history,open(fname+'_ES_UncertainSG.pkl','wb'))\n",
    "pickle.dump(evaluator.get_history()['mean'],open(fname+'_ES_UncertainSG_eval.pkl','wb'))"
   ]
  },
  {
   "cell_type": "markdown",
   "id": "8fe0eb5d-9be8-4a23-9db6-447a3fcf025a",
   "metadata": {},
   "source": [
    "# SG wo ES"
   ]
  },
  {
   "cell_type": "code",
   "execution_count": null,
   "id": "ea17e98c-de89-4798-aff9-4a705cf3d8a3",
   "metadata": {
    "scrolled": true
   },
   "outputs": [],
   "source": [
    "df,ramp = evaluator._set_and_read(control_init)\n",
    "evaluator.clear_history()\n",
    "sv = savo(control_CSETs, control_RDs, control_min, control_max, control_maxstep, objective_PVs, composite_objective_name, evaluator, \n",
    "          model_train_budget = model_train_budget)\n",
    "for i in range(ninit):\n",
    "    sv.step(lr=0,lrES=1)\n",
    "for i in range(budget-ninit):\n",
    "    sv.step(lr=lr,lrES=0)"
   ]
  },
  {
   "cell_type": "code",
   "execution_count": null,
   "id": "e2afb3ab-6b12-40c6-b2e3-9d6cdbe59d56",
   "metadata": {},
   "outputs": [],
   "source": [
    "plot_hist(sv.history)"
   ]
  },
  {
   "cell_type": "code",
   "execution_count": null,
   "id": "41414bb4",
   "metadata": {},
   "outputs": [],
   "source": [
    "pickle.dump(sv.history,open(fname+'_SG.pkl','wb'))\n",
    "pickle.dump(evaluator.get_history()['mean'],open(fname+'_SG_eval.pkl','wb'))"
   ]
  },
  {
   "cell_type": "markdown",
   "id": "e320d315-e0e9-4ebd-821e-0d9afd140ee7",
   "metadata": {},
   "source": [
    "# Restore"
   ]
  },
  {
   "cell_type": "code",
   "execution_count": null,
   "id": "a2359434-eabb-4cfe-ae20-1833efe3f164",
   "metadata": {},
   "outputs": [],
   "source": [
    "df,ramp = evaluator._set_and_read(control_init)\n",
    "evaluator.clear_history()"
   ]
  }
 ],
 "metadata": {
  "kernelspec": {
   "display_name": "Python 3 (ipykernel)",
   "language": "python",
   "name": "python3"
  },
  "language_info": {
   "codemirror_mode": {
    "name": "ipython",
    "version": 3
   },
   "file_extension": ".py",
   "mimetype": "text/x-python",
   "name": "python",
   "nbconvert_exporter": "python",
   "pygments_lexer": "ipython3",
   "version": "3.11.2"
  }
 },
 "nbformat": 4,
 "nbformat_minor": 5
}
