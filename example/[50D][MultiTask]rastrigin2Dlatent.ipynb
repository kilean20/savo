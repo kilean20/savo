{
 "cells": [
  {
   "cell_type": "code",
   "execution_count": 1,
   "id": "6f12e246",
   "metadata": {},
   "outputs": [],
   "source": [
    "# ! pip install -e ../../savo"
   ]
  },
  {
   "cell_type": "code",
   "execution_count": 2,
   "id": "451f0cad",
   "metadata": {},
   "outputs": [
    {
     "name": "stderr",
     "output_type": "stream",
     "text": [
      "Failed to import 'epics'\n",
      "Failed to import 'phantasy'\n"
     ]
    }
   ],
   "source": [
    "import numpy as np\n",
    "import matplotlib.pyplot as plt\n",
    "import time\n",
    "from copy import deepcopy as copy\n",
    "from scipy import optimize\n",
    "import torch\n",
    "\n",
    "import sys\n",
    "sys.path.append('../')\n",
    "sys.path.append('../machineIO/')\n",
    "from savo import savo\n",
    "from savo.optim import adam\n",
    "from machineIO.utils import plot_2D_projection, dictClass\n",
    "from machineIO.objFunc import SingleTaskObjectiveFunction\n",
    "from machineIO.VM import VirtualMachineIO\n",
    "from machineIO import Evaluator"
   ]
  },
  {
   "cell_type": "code",
   "execution_count": 3,
   "id": "11ce043c",
   "metadata": {},
   "outputs": [],
   "source": [
    "ndim = 50\n",
    "budget = 300\n",
    "ninit = 25  # number of initial ES steps to collect data for surrogate model training\n",
    "noise = 1e-2\n",
    "max_dx = 2e-2\n",
    "lr = 1e-2"
   ]
  },
  {
   "cell_type": "code",
   "execution_count": 4,
   "id": "6f7e7919",
   "metadata": {},
   "outputs": [],
   "source": [
    "control_CSETs = [f'X{i}:I_CSET' for i in range(ndim)]\n",
    "control_RDs   = [f'X{i}:I_RD'   for i in range(ndim)]\n",
    "control_min   = -np.ones(ndim)\n",
    "control_max   =  np.ones(ndim)\n",
    "control_maxstep = max_dx*np.ones(ndim)\n",
    "control_tols  = 1e-3*(control_max-control_min)\n",
    "monitor_RDs   = [f'Y{i}:I_RD' for i in range(2)]\n",
    "monitor_min   = -2*np.ones(2)\n",
    "monitor_max   =  2*np.ones(2)\n",
    "\n",
    "objective_PVs = monitor_RDs\n",
    "composite_objective_name = 'rastrigin'"
   ]
  },
  {
   "cell_type": "code",
   "execution_count": 5,
   "id": "23e53d34-a11f-4461-9d95-ff8345485f7b",
   "metadata": {},
   "outputs": [],
   "source": [
    "vmio = VirtualMachineIO(\n",
    "    control_CSETs = control_CSETs,\n",
    "    control_RDs = control_RDs,\n",
    "    monitor_RDs = monitor_RDs,\n",
    "    control_min = control_min,\n",
    "    control_max = control_max,\n",
    "    monitor_min = monitor_min,\n",
    "    monitor_max = monitor_max,\n",
    "    fetch_data_time_span = 1.0\n",
    ")"
   ]
  },
  {
   "cell_type": "markdown",
   "id": "1bc6b2b7",
   "metadata": {},
   "source": [
    "# obj_func\n",
    "\n",
    ": rastirigin over 2D latent space of random NN for both high-dim and visualization"
   ]
  },
  {
   "cell_type": "code",
   "execution_count": 6,
   "id": "f1e11a16-abac-4d52-8bae-63f47c444911",
   "metadata": {},
   "outputs": [],
   "source": [
    "def rastrigin(x, noise=0.0):\n",
    "    x = torch.as_tensor(x)\n",
    "    d = x.shape[-1]\n",
    "    y = torch.sum(x**2 - torch.cos(2*np.pi*x), dim=-1) / d + 1\n",
    "    return 1 - y + torch.randn_like(y) * noise"
   ]
  },
  {
   "cell_type": "code",
   "execution_count": 7,
   "id": "68513679-cbb2-42ad-adf2-5c707a823741",
   "metadata": {},
   "outputs": [],
   "source": [
    "y = 1\n",
    "while y>0:\n",
    "    control_init = np.random.rand(ndim)*(control_max-control_min)+control_min\n",
    "    vmio.x = control_init\n",
    "    ret, df = vmio.get_df(monitor_RDs)\n",
    "    y = rastrigin(df.values).mean()"
   ]
  },
  {
   "cell_type": "code",
   "execution_count": 8,
   "id": "bacf6c71-a6de-45dd-9ba0-aa32a0ae421e",
   "metadata": {},
   "outputs": [
    {
     "data": {
      "image/png": "[encoded data removed]",
      "text/plain": [
       "<Figure size 128x105.6 with 2 Axes>"
      ]
     },
     "metadata": {},
     "output_type": "display_data"
    }
   ],
   "source": [
    "grid = np.linspace(-2,2,128)\n",
    "x1,x2 = np.meshgrid(grid,grid)\n",
    "xgrid = np.vstack((x1.flatten(), x2.flatten())).T\n",
    "ygrid = rastrigin(xgrid,noise=0)\n",
    "def plot_contour(figsize=(4,3.3),dpi=128):\n",
    "    fig,ax = plt.subplots(figsize=figsize,dpi=dpi)\n",
    "    cs = ax.tricontourf(xgrid[:,0],xgrid[:,1],ygrid,levels=32)\n",
    "    fig.colorbar(cs,ax=ax)\n",
    "    return fig,ax\n",
    "fig,ax = plot_contour(dpi=32)"
   ]
  },
  {
   "cell_type": "code",
   "execution_count": 9,
   "id": "916a74c4-3ae0-4efb-b277-e5e8ef38e74d",
   "metadata": {},
   "outputs": [],
   "source": [
    "obj_func = SingleTaskObjectiveFunction(\n",
    "    objective_PVs = monitor_RDs,\n",
    "    composite_objective_name = composite_objective_name,\n",
    "    custom_function = rastrigin,\n",
    "    objective_goal = None, \n",
    "    objective_weight = None,\n",
    "    objective_tolerance = None,\n",
    ")"
   ]
  },
  {
   "cell_type": "code",
   "execution_count": 10,
   "id": "bd1366b4-545d-4867-8cd1-3aa077b82f0b",
   "metadata": {},
   "outputs": [],
   "source": [
    "evaluator = Evaluator(\n",
    "    machineIO = vmio,\n",
    "    control_CSETs = control_CSETs,\n",
    "    control_RDs = control_RDs,\n",
    "    control_tols = control_tols,\n",
    "    monitor_RDs = monitor_RDs,\n",
    "    df_manipulators = [obj_func.calculate_objectives_from_df],\n",
    ")"
   ]
  },
  {
   "cell_type": "code",
   "execution_count": 11,
   "id": "e36f7582-5471-425c-95b0-4867c3ea7a83",
   "metadata": {},
   "outputs": [],
   "source": [
    "# evaluator.read()[control_CSETs].mean().values - control_init"
   ]
  },
  {
   "cell_type": "code",
   "execution_count": 12,
   "id": "cadc5ffd-de4d-4592-b12a-11190570ff39",
   "metadata": {},
   "outputs": [],
   "source": [
    "# df, _ = evaluator._set_and_read(np.zeros(ndim))\n",
    "# df, _ = evaluator._set_and_read(control_init)\n",
    "# df = evaluator.read()\n",
    "# df[control_CSETs].mean().values - control_init"
   ]
  },
  {
   "cell_type": "code",
   "execution_count": 13,
   "id": "99142c23-5df4-4186-8419-fe43e74fd707",
   "metadata": {},
   "outputs": [],
   "source": [
    "# test evaluator\n",
    "# df = evaluator.read()\n",
    "# df[['X1:I_CSET','X1:I_RD']].head()"
   ]
  },
  {
   "cell_type": "markdown",
   "id": "854f2746",
   "metadata": {},
   "source": [
    "# ES"
   ]
  },
  {
   "cell_type": "code",
   "execution_count": 14,
   "id": "558b04a3-6222-4175-af34-64edf960ade2",
   "metadata": {},
   "outputs": [],
   "source": [
    "df,ramp = evaluator._set_and_read(control_init)\n",
    "evaluator.clear_history()\n",
    "sv = savo(control_CSETs, control_RDs, control_min, control_max, control_maxstep, objective_PVs, composite_objective_name, evaluator,\n",
    "          obj_func=obj_func)\n",
    "for i in range(budget):\n",
    "    sv.step(lr=0,lrES=1)\n",
    "history = evaluator.get_history()['mean']"
   ]
  },
  {
   "cell_type": "code",
   "execution_count": 15,
   "id": "e41b86ad-5c84-4f0e-8856-02bb026dc6e9",
   "metadata": {},
   "outputs": [
    {
     "data": {
      "image/png": "[encoded data removed]",
      "text/plain": [
       "<Figure size 384x288 with 1 Axes>"
      ]
     },
     "metadata": {},
     "output_type": "display_data"
    }
   ],
   "source": [
    "fig, ax = plt.subplots(figsize=(4,3),dpi=96)\n",
    "# history['rastrigin'].plot(ax=ax)\n",
    "xaxis = np.arange(len(history))\n",
    "ax.plot(xaxis, history['rastrigin'])\n",
    "ax.set_xlabel('epoch');\n",
    "ax.set_ylabel('objective');"
   ]
  },
  {
   "cell_type": "code",
   "execution_count": 16,
   "id": "471f0e11",
   "metadata": {},
   "outputs": [
    {
     "data": {
      "image/png": "[encoded data removed]",
      "text/plain": [
       "<Figure size 512x422.4 with 2 Axes>"
      ]
     },
     "metadata": {},
     "output_type": "display_data"
    }
   ],
   "source": [
    "fig, ax = plot_contour()\n",
    "ax.plot(history['Y0:I_RD'],history['Y1:I_RD'],'k',lw=1)\n",
    "start_x = history['Y0:I_RD'][0]\n",
    "start_y = history['Y1:I_RD'][0]\n",
    "end_x = history['Y0:I_RD'][-1]\n",
    "end_y = history['Y1:I_RD'][-1]\n",
    "ax.plot(start_x, start_y, 'g+', markersize=4, label='Start Point') # 'go' for green circle\n",
    "ax.plot(end_x, end_y, 'r*', markersize=4, label='End Point') # 'rs' for red square\n",
    "ax.set_xlabel('Y0:I_RD')\n",
    "ax.set_ylabel('Y1:I_RD')\n",
    "ax.set_title('Latent Objetive Path')\n",
    "ax.legend() # Show the labels\n",
    "plt.show()"
   ]
  },
  {
   "cell_type": "markdown",
   "id": "70901f16-fd6e-4a18-b7b6-d644280316b1",
   "metadata": {},
   "source": [
    "# ES + adamSG"
   ]
  },
  {
   "cell_type": "code",
   "execution_count": null,
   "id": "588ec596-cc4b-4090-ae33-811fc00a88b4",
   "metadata": {
    "scrolled": true
   },
   "outputs": [],
   "source": [
    "df,ramp = evaluator._set_and_read(control_init)\n",
    "evaluator.clear_history()\n",
    "optimizer = adam()\n",
    "sv = savo(control_CSETs, control_RDs, control_min, control_max, control_maxstep, objective_PVs, composite_objective_name, evaluator, \n",
    "          optimizer=optimizer, obj_func=obj_func)\n",
    "for i in range(ninit):\n",
    "    sv.step(lr=0,lrES=1)\n",
    "for i in range(budget-ninit):\n",
    "    sv.step(lr=1,lrES=1)\n",
    "history = evaluator.get_history()['mean']"
   ]
  },
  {
   "cell_type": "code",
   "execution_count": null,
   "id": "121490d6-ebb7-4388-b632-ac23613c8aab",
   "metadata": {},
   "outputs": [],
   "source": [
    "import torch\n",
    "import gpytorch\n",
    "\n",
    "gpytorch.settings.fast_computations.covar_root_decomposition"
   ]
  },
  {
   "cell_type": "code",
   "execution_count": null,
   "id": "6d5748f0-020a-4417-ba31-2b353029b5c3",
   "metadata": {},
   "outputs": [],
   "source": [
    "fig, ax = plt.subplots(figsize=(4,3),dpi=96)\n",
    "# history['rastrigin'].plot(ax=ax)\n",
    "xaxis = np.arange(len(history))\n",
    "ax.plot(xaxis, history['rastrigin'])\n",
    "ax.set_xlabel('epoch');\n",
    "ax.set_ylabel('objective');"
   ]
  },
  {
   "cell_type": "code",
   "execution_count": null,
   "id": "6aa86eda-a719-475d-be48-98bd238269c6",
   "metadata": {},
   "outputs": [],
   "source": [
    "fig, ax = plot_contour()\n",
    "ax.plot(history['Y0:I_RD'],history['Y1:I_RD'],'k',lw=1)\n",
    "start_x = history['Y0:I_RD'][0]\n",
    "start_y = history['Y1:I_RD'][0]\n",
    "end_x = history['Y0:I_RD'][-1]\n",
    "end_y = history['Y1:I_RD'][-1]\n",
    "ax.plot(start_x, start_y, 'g+', markersize=4, label='Start Point') # 'go' for green circle\n",
    "ax.plot(end_x, end_y, 'r*', markersize=4, label='End Point') # 'rs' for red square\n",
    "ax.set_xlabel('Y0:I_RD')\n",
    "ax.set_ylabel('Y1:I_RD')\n",
    "ax.set_title('Latent Objetive Path')\n",
    "ax.legend() # Show the labels\n",
    "plt.show()"
   ]
  },
  {
   "cell_type": "markdown",
   "id": "89aff6b1-4b93-4fc4-852c-b47692914487",
   "metadata": {},
   "source": [
    "# ES + SG"
   ]
  },
  {
   "cell_type": "code",
   "execution_count": null,
   "id": "1d9fd057-5d29-4a09-8a39-8a2b8df808a5",
   "metadata": {
    "scrolled": true
   },
   "outputs": [],
   "source": [
    "df,ramp = evaluator._set_and_read(control_init)\n",
    "evaluator.clear_history()\n",
    "sv = savo(control_CSETs, control_RDs, control_min, control_max, control_maxstep, objective_PVs, composite_objective_name, evaluator,\n",
    "          obj_func=obj_func)\n",
    "for i in range(ninit):\n",
    "    sv.step(lr=0,lrES=1)\n",
    "for i in range(budget-ninit):\n",
    "    sv.step(lr=1,lrES=1)\n",
    "history = evaluator.get_history()['mean']"
   ]
  },
  {
   "cell_type": "code",
   "execution_count": null,
   "id": "d91ac145-5487-4ecd-9297-b5868dff3c0a",
   "metadata": {},
   "outputs": [],
   "source": [
    "fig, ax = plt.subplots(figsize=(4,3),dpi=96)\n",
    "# history['rastrigin'].plot(ax=ax)\n",
    "xaxis = np.arange(len(history))\n",
    "ax.plot(xaxis, history['rastrigin'])\n",
    "ax.set_xlabel('epoch');\n",
    "ax.set_ylabel('objective');"
   ]
  },
  {
   "cell_type": "code",
   "execution_count": null,
   "id": "89a43c84-a233-45b1-8998-0081e990277b",
   "metadata": {},
   "outputs": [],
   "source": [
    "fig, ax = plot_contour()\n",
    "ax.plot(history['Y0:I_RD'],history['Y1:I_RD'],'k',lw=1)\n",
    "start_x = history['Y0:I_RD'][0]\n",
    "start_y = history['Y1:I_RD'][0]\n",
    "end_x = history['Y0:I_RD'][-1]\n",
    "end_y = history['Y1:I_RD'][-1]\n",
    "ax.plot(start_x, start_y, 'g+', markersize=4, label='Start Point') # 'go' for green circle\n",
    "ax.plot(end_x, end_y, 'r*', markersize=4, label='End Point') # 'rs' for red square\n",
    "ax.set_xlabel('Y0:I_RD')\n",
    "ax.set_ylabel('Y1:I_RD')\n",
    "ax.set_title('Latent Objetive Path')\n",
    "ax.legend() # Show the labels\n",
    "plt.show()"
   ]
  },
  {
   "cell_type": "markdown",
   "id": "8fe0eb5d-9be8-4a23-9db6-447a3fcf025a",
   "metadata": {},
   "source": [
    "# SG wo ES"
   ]
  },
  {
   "cell_type": "code",
   "execution_count": null,
   "id": "ea17e98c-de89-4798-aff9-4a705cf3d8a3",
   "metadata": {
    "scrolled": true
   },
   "outputs": [],
   "source": [
    "df,ramp = evaluator._set_and_read(control_init)\n",
    "evaluator.clear_history()\n",
    "sv = savo(control_CSETs, control_RDs, control_min, control_max, control_maxstep, objective_PVs, composite_objective_name, evaluator,\n",
    "          obj_func=obj_func)\n",
    "for i in range(ninit):\n",
    "    sv.step(lr=0,lrES=1)\n",
    "for i in range(budget-ninit):\n",
    "    sv.step(lr=1,lrES=0)\n",
    "history = evaluator.get_history()['mean']"
   ]
  },
  {
   "cell_type": "code",
   "execution_count": null,
   "id": "e2afb3ab-6b12-40c6-b2e3-9d6cdbe59d56",
   "metadata": {},
   "outputs": [],
   "source": [
    "fig, ax = plt.subplots(figsize=(4,3),dpi=96)\n",
    "# history['rastrigin'].plot(ax=ax)\n",
    "xaxis = np.arange(len(history))\n",
    "ax.plot(xaxis, history['rastrigin'])\n",
    "ax.set_xlabel('epoch');\n",
    "ax.set_ylabel('objective');"
   ]
  },
  {
   "cell_type": "code",
   "execution_count": null,
   "id": "16f81db3-dc10-4cce-98e3-f2285ee751d9",
   "metadata": {
    "scrolled": true
   },
   "outputs": [],
   "source": [
    "fig, ax = plot_contour()\n",
    "ax.plot(history['Y0:I_RD'],history['Y1:I_RD'],'k',lw=1)\n",
    "start_x = history['Y0:I_RD'][0]\n",
    "start_y = history['Y1:I_RD'][0]\n",
    "end_x = history['Y0:I_RD'][-1]\n",
    "end_y = history['Y1:I_RD'][-1]\n",
    "ax.plot(start_x, start_y, 'g+', markersize=4, label='Start Point') # 'go' for green circle\n",
    "ax.plot(end_x, end_y, 'r*', markersize=4, label='End Point') # 'rs' for red square\n",
    "ax.set_xlabel('Y0:I_RD')\n",
    "ax.set_ylabel('Y1:I_RD')\n",
    "ax.set_title('Latent Objetive Path')\n",
    "ax.legend() # Show the labels\n",
    "plt.show()"
   ]
  },
  {
   "cell_type": "markdown",
   "id": "c605d199-c0a9-4817-8a1f-6a844c4556f7",
   "metadata": {},
   "source": [
    "# adamSG wo ES"
   ]
  },
  {
   "cell_type": "code",
   "execution_count": null,
   "id": "7126e5ac-b0e3-49ba-842c-c3b1e17a8aa4",
   "metadata": {
    "scrolled": true
   },
   "outputs": [],
   "source": [
    "df,ramp = evaluator._set_and_read(control_init)\n",
    "evaluator.clear_history()\n",
    "optimizer = adam()\n",
    "sv = savo(control_CSETs, control_RDs, control_min, control_max, control_maxstep, objective_PVs, composite_objective_name, evaluator, optimizer=optimizer,\n",
    "          obj_func=obj_func)\n",
    "for i in range(ninit):\n",
    "    sv.step(lr=0,lrES=1)\n",
    "for i in range(budget-ninit):\n",
    "    sv.step(lr=1,lrES=0)\n",
    "history = evaluator.get_history()['mean']"
   ]
  },
  {
   "cell_type": "code",
   "execution_count": null,
   "id": "00af8dc7-0c6c-413c-9054-41fa04bf5af4",
   "metadata": {},
   "outputs": [],
   "source": [
    "fig, ax = plt.subplots(figsize=(4,3),dpi=96)\n",
    "# history['rastrigin'].plot(ax=ax)\n",
    "xaxis = np.arange(len(history))\n",
    "ax.plot(xaxis, history['rastrigin'])\n",
    "ax.set_xlabel('epoch');\n",
    "ax.set_ylabel('objective');"
   ]
  },
  {
   "cell_type": "code",
   "execution_count": null,
   "id": "0f5f1c54-839a-4efd-aad8-d2f208a373e4",
   "metadata": {
    "scrolled": true
   },
   "outputs": [],
   "source": [
    "fig, ax = plot_contour()\n",
    "ax.plot(history['Y0:I_RD'],history['Y1:I_RD'],'k',lw=1)\n",
    "start_x = history['Y0:I_RD'][0]\n",
    "start_y = history['Y1:I_RD'][0]\n",
    "end_x = history['Y0:I_RD'][-1]\n",
    "end_y = history['Y1:I_RD'][-1]\n",
    "ax.plot(start_x, start_y, 'g+', markersize=4, label='Start Point') # 'go' for green circle\n",
    "ax.plot(end_x, end_y, 'r*', markersize=4, label='End Point') # 'rs' for red square\n",
    "ax.set_xlabel('Y0:I_RD')\n",
    "ax.set_ylabel('Y1:I_RD')\n",
    "ax.set_title('Latent Objetive Path')\n",
    "ax.legend() # Show the labels\n",
    "plt.show()"
   ]
  }
 ],
 "metadata": {
  "kernelspec": {
   "display_name": "Python 3 (ipykernel)",
   "language": "python",
   "name": "python3"
  },
  "language_info": {
   "codemirror_mode": {
    "name": "ipython",
    "version": 3
   },
   "file_extension": ".py",
   "mimetype": "text/x-python",
   "name": "python",
   "nbconvert_exporter": "python",
   "pygments_lexer": "ipython3",
   "version": "3.11.2"
  }
 },
 "nbformat": 4,
 "nbformat_minor": 5
}
