{
 "cells": [
  {
   "cell_type": "code",
   "execution_count": 1,
   "id": "6f12e246",
   "metadata": {},
   "outputs": [],
   "source": [
    "# ! pip install -e ../../savo"
   ]
  },
  {
   "cell_type": "code",
   "execution_count": 2,
   "id": "451f0cad",
   "metadata": {},
   "outputs": [
    {
     "name": "stderr",
     "output_type": "stream",
     "text": [
      "Failed to import 'epics'\n",
      "Failed to import 'phantasy'\n"
     ]
    }
   ],
   "source": [
    "import numpy as np\n",
    "import matplotlib.pyplot as plt\n",
    "import time\n",
    "from copy import deepcopy as copy\n",
    "from scipy import optimize\n",
    "import torch\n",
    "\n",
    "import sys\n",
    "sys.path.append('../')\n",
    "sys.path.append('../machineIO/')\n",
    "from savo import savo\n",
    "from machineIO.utils import plot_2D_projection, dictClass\n",
    "from machineIO.objFunc import SingleTaskObjectiveFunction\n",
    "from machineIO.VM import VirtualMachineIO\n",
    "from machineIO import Evaluator"
   ]
  },
  {
   "cell_type": "code",
   "execution_count": 3,
   "id": "11ce043c",
   "metadata": {},
   "outputs": [],
   "source": [
    "ndim = 50\n",
    "budget = 200\n",
    "ninit = 25  # number of initial ES steps to collect data for surrogate model training\n",
    "noise = 0.0\n",
    "max_dx = 1e-2\n",
    "lr = 1e-2"
   ]
  },
  {
   "cell_type": "code",
   "execution_count": 4,
   "id": "6f7e7919",
   "metadata": {},
   "outputs": [],
   "source": [
    "control_CSETs = [f'X{i}:I_CSET' for i in range(ndim)]\n",
    "control_RDs   = [f'X{i}:I_RD' for i in range(ndim)]\n",
    "control_min   = -np.ones(ndim)\n",
    "control_max   =  np.ones(ndim)\n",
    "control_maxstep = max_dx*np.ones(ndim)\n",
    "control_tols  = 1e-3*(control_max-control_min)\n",
    "control_init = np.random.randn(ndim)*(control_max - control_min) + control_min\n",
    "monitor_RDs   = [f'Y{i}:I_RD' for i in range(2)]\n",
    "monitor_min   = -2*np.ones(2)\n",
    "monitor_max   =  2*np.ones(2)\n",
    "\n",
    "objective_PVs = monitor_RDs\n",
    "composite_objective_name = 'rastrigin'"
   ]
  },
  {
   "cell_type": "code",
   "execution_count": 5,
   "id": "23e53d34-a11f-4461-9d95-ff8345485f7b",
   "metadata": {},
   "outputs": [],
   "source": [
    "vmio = VirtualMachineIO(\n",
    "    control_CSETs = control_CSETs,\n",
    "    control_RDs = control_RDs,\n",
    "    monitor_RDs = monitor_RDs,\n",
    "    control_min = control_min,\n",
    "    control_max = control_max,\n",
    "    monitor_min = monitor_min,\n",
    "    monitor_max = monitor_max,\n",
    "    fetch_data_time_span = 1.0\n",
    ")\n",
    "vmio.x = control_init"
   ]
  },
  {
   "cell_type": "markdown",
   "id": "1bc6b2b7",
   "metadata": {},
   "source": [
    "# obj_func\n",
    "\n",
    ": rastirigin over 2D latent space of random NN for both high-dim and visualization"
   ]
  },
  {
   "cell_type": "code",
   "execution_count": 6,
   "id": "f1e11a16-abac-4d52-8bae-63f47c444911",
   "metadata": {},
   "outputs": [],
   "source": [
    "def rastrigin(x,noise=noise):\n",
    "    x = torch.as_tensor(x)\n",
    "    b,d = x.shape\n",
    "    y = torch.sum(x**2 - torch.cos(2*np.pi*x),axis=1)/d +1\n",
    "    return 1-y + torch.randn(b)*noise"
   ]
  },
  {
   "cell_type": "code",
   "execution_count": 7,
   "id": "bacf6c71-a6de-45dd-9ba0-aa32a0ae421e",
   "metadata": {},
   "outputs": [
    {
     "data": {
      "image/png": "[encoded data removed]",
      "text/plain": [
       "<Figure size 128x105.6 with 2 Axes>"
      ]
     },
     "metadata": {},
     "output_type": "display_data"
    }
   ],
   "source": [
    "grid = np.linspace(-2,2,128)\n",
    "x1,x2 = np.meshgrid(grid,grid)\n",
    "xgrid = np.vstack((x1.flatten(), x2.flatten())).T\n",
    "ygrid = rastrigin(xgrid,noise=0)\n",
    "def plot_contour(figsize=(4,3.3),dpi=128):\n",
    "    fig,ax = plt.subplots(figsize=figsize,dpi=dpi)\n",
    "    cs = ax.tricontourf(xgrid[:,0],xgrid[:,1],ygrid,levels=32)\n",
    "    fig.colorbar(cs,ax=ax)\n",
    "    return fig,ax\n",
    "fig,ax = plot_contour(dpi=32)"
   ]
  },
  {
   "cell_type": "code",
   "execution_count": 8,
   "id": "916a74c4-3ae0-4efb-b277-e5e8ef38e74d",
   "metadata": {},
   "outputs": [],
   "source": [
    "objfunc = SingleTaskObjectiveFunction(\n",
    "    objective_PVs = monitor_RDs,\n",
    "    composite_objective_name = composite_objective_name,\n",
    "    custom_function = rastrigin,\n",
    "    objective_goal = None, \n",
    "    objective_weight = None,\n",
    "    objective_tolerance = None,\n",
    ")"
   ]
  },
  {
   "cell_type": "code",
   "execution_count": 9,
   "id": "bd1366b4-545d-4867-8cd1-3aa077b82f0b",
   "metadata": {},
   "outputs": [],
   "source": [
    "evaluator = Evaluator(\n",
    "    machineIO = vmio,\n",
    "    control_CSETs = control_CSETs,\n",
    "    control_RDs = control_RDs,\n",
    "    control_tols = control_tols,\n",
    "    monitor_RDs = monitor_RDs,\n",
    "    df_manipulators = [objfunc.calculate_objectives_from_df],\n",
    ")"
   ]
  },
  {
   "cell_type": "code",
   "execution_count": 11,
   "id": "cadc5ffd-de4d-4592-b12a-11190570ff39",
   "metadata": {},
   "outputs": [
    {
     "data": {
      "text/plain": [
       "array([ 0.00000000e+00,  0.00000000e+00,  0.00000000e+00,  0.00000000e+00,\n",
       "        2.22044605e-16,  0.00000000e+00,  0.00000000e+00,  0.00000000e+00,\n",
       "       -5.55111512e-17,  0.00000000e+00,  0.00000000e+00,  0.00000000e+00,\n",
       "        0.00000000e+00,  0.00000000e+00,  0.00000000e+00,  0.00000000e+00,\n",
       "        0.00000000e+00,  0.00000000e+00, -2.22044605e-16,  0.00000000e+00,\n",
       "        0.00000000e+00,  0.00000000e+00,  0.00000000e+00,  0.00000000e+00,\n",
       "        0.00000000e+00,  0.00000000e+00,  0.00000000e+00,  0.00000000e+00,\n",
       "        0.00000000e+00,  0.00000000e+00,  2.22044605e-16,  0.00000000e+00,\n",
       "        0.00000000e+00,  0.00000000e+00,  0.00000000e+00,  0.00000000e+00,\n",
       "        0.00000000e+00,  2.22044605e-16,  0.00000000e+00,  0.00000000e+00,\n",
       "        0.00000000e+00,  0.00000000e+00,  0.00000000e+00,  0.00000000e+00,\n",
       "        0.00000000e+00,  5.55111512e-17,  0.00000000e+00,  5.55111512e-17,\n",
       "        0.00000000e+00,  0.00000000e+00])"
      ]
     },
     "execution_count": 11,
     "metadata": {},
     "output_type": "execute_result"
    }
   ],
   "source": [
    "df, _ = evaluator._set_and_read(np.zeros(ndim))\n",
    "df, _ = evaluator._set_and_read(control_init)\n",
    "df = evaluator.read()\n",
    "df[control_CSETs].mean().values - control_init"
   ]
  },
  {
   "cell_type": "code",
   "execution_count": null,
   "id": "f7b5c128-e11b-438a-a1ba-cc0650009a32",
   "metadata": {},
   "outputs": [],
   "source": []
  },
  {
   "cell_type": "code",
   "execution_count": null,
   "id": "c27083db-3e91-4c95-83d9-6158f6305c2d",
   "metadata": {},
   "outputs": [],
   "source": []
  }
 ],
 "metadata": {
  "kernelspec": {
   "display_name": "Python 3 (ipykernel)",
   "language": "python",
   "name": "python3"
  },
  "language_info": {
   "codemirror_mode": {
    "name": "ipython",
    "version": 3
   },
   "file_extension": ".py",
   "mimetype": "text/x-python",
   "name": "python",
   "nbconvert_exporter": "python",
   "pygments_lexer": "ipython3",
   "version": "3.11.2"
  }
 },
 "nbformat": 4,
 "nbformat_minor": 5
}
