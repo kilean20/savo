{
 "cells": [
  {
   "cell_type": "code",
   "execution_count": 1,
   "id": "6f12e246",
   "metadata": {},
   "outputs": [],
   "source": [
    "# ! pip install -e ../../savo"
   ]
  },
  {
   "cell_type": "code",
   "execution_count": 2,
   "id": "451f0cad",
   "metadata": {},
   "outputs": [
    {
     "name": "stderr",
     "output_type": "stream",
     "text": [
      "Failed to import 'epics'\n",
      "Failed to import 'phantasy'\n"
     ]
    }
   ],
   "source": [
    "import numpy as np\n",
    "import matplotlib.pyplot as plt\n",
    "import time\n",
    "from copy import deepcopy as copy\n",
    "from scipy import optimize\n",
    "import torch\n",
    "\n",
    "import sys\n",
    "sys.path.append('../')\n",
    "sys.path.append('../machineIO/')\n",
    "from savo import savo\n",
    "from machineIO.utils import plot_2D_projection, dictClass\n",
    "from machineIO.objFunc import SingleTaskObjectiveFunction\n",
    "from machineIO.VM import VirtualMachineIO\n",
    "from machineIO import Evaluator"
   ]
  },
  {
   "cell_type": "code",
   "execution_count": 3,
   "id": "11ce043c",
   "metadata": {},
   "outputs": [],
   "source": [
    "ndim = 50\n",
    "budget = 200\n",
    "ninit = 25  # number of initial ES steps to collect data for surrogate model training\n",
    "noise = 0.0\n",
    "max_dx = 0.01\n",
    "lr = 1e-2"
   ]
  },
  {
   "cell_type": "code",
   "execution_count": 4,
   "id": "6f7e7919",
   "metadata": {},
   "outputs": [],
   "source": [
    "input_CSETs = [f'X{i}:I_CSET' for i in range(ndim)]\n",
    "input_RDs   = [f'X{i}:I_RD' for i in range(ndim)]\n",
    "input_min = -np.ones(ndim)\n",
    "input_max =  np.ones(ndim)\n",
    "input_tols = 1e-3*(input_max-input_min)\n",
    "output_RDs = [f'Y{i}:I_RD' for i in range(2)]\n",
    "output_min = -2*np.ones(2)\n",
    "output_max =  2*np.ones(2)"
   ]
  },
  {
   "cell_type": "code",
   "execution_count": 5,
   "id": "23e53d34-a11f-4461-9d95-ff8345485f7b",
   "metadata": {},
   "outputs": [
    {
     "ename": "TypeError",
     "evalue": "VirtualMachineIO.__init__() got an unexpected keyword argument 'input_CSETs'",
     "output_type": "error",
     "traceback": [
      "\u001b[1;31m---------------------------------------------------------------------------\u001b[0m",
      "\u001b[1;31mTypeError\u001b[0m                                 Traceback (most recent call last)",
      "Cell \u001b[1;32mIn[5], line 1\u001b[0m\n\u001b[1;32m----> 1\u001b[0m vmio \u001b[38;5;241m=\u001b[39m \u001b[43mVirtualMachineIO\u001b[49m\u001b[43m(\u001b[49m\n\u001b[0;32m      2\u001b[0m \u001b[43m    \u001b[49m\u001b[43minput_CSETs\u001b[49m\u001b[43m \u001b[49m\u001b[38;5;241;43m=\u001b[39;49m\u001b[43m \u001b[49m\u001b[43minput_CSETs\u001b[49m\u001b[43m,\u001b[49m\n\u001b[0;32m      3\u001b[0m \u001b[43m    \u001b[49m\u001b[43minput_RDs\u001b[49m\u001b[43m \u001b[49m\u001b[38;5;241;43m=\u001b[39;49m\u001b[43m \u001b[49m\u001b[43minput_RDs\u001b[49m\u001b[43m,\u001b[49m\n\u001b[0;32m      4\u001b[0m \u001b[43m    \u001b[49m\u001b[43mmonitor_PVs\u001b[49m\u001b[43m \u001b[49m\u001b[38;5;241;43m=\u001b[39;49m\u001b[43m \u001b[49m\u001b[43moutput_RDs\u001b[49m\u001b[43m,\u001b[49m\n\u001b[0;32m      5\u001b[0m \u001b[43m    \u001b[49m\u001b[43minput_min\u001b[49m\u001b[43m \u001b[49m\u001b[38;5;241;43m=\u001b[39;49m\u001b[43m \u001b[49m\u001b[43minput_min\u001b[49m\u001b[43m,\u001b[49m\n\u001b[0;32m      6\u001b[0m \u001b[43m    \u001b[49m\u001b[43minput_max\u001b[49m\u001b[43m \u001b[49m\u001b[38;5;241;43m=\u001b[39;49m\u001b[43m \u001b[49m\u001b[43minput_max\u001b[49m\u001b[43m,\u001b[49m\n\u001b[0;32m      7\u001b[0m \u001b[43m    \u001b[49m\u001b[43mmonitor_min\u001b[49m\u001b[43m \u001b[49m\u001b[38;5;241;43m=\u001b[39;49m\u001b[43m \u001b[49m\u001b[43moutput_min\u001b[49m\u001b[43m,\u001b[49m\n\u001b[0;32m      8\u001b[0m \u001b[43m    \u001b[49m\u001b[43mmonitor_max\u001b[49m\u001b[43m \u001b[49m\u001b[38;5;241;43m=\u001b[39;49m\u001b[43m \u001b[49m\u001b[43moutput_max\u001b[49m\u001b[43m,\u001b[49m\n\u001b[0;32m      9\u001b[0m \u001b[43m)\u001b[49m\n",
      "\u001b[1;31mTypeError\u001b[0m: VirtualMachineIO.__init__() got an unexpected keyword argument 'input_CSETs'"
     ]
    }
   ],
   "source": [
    "vmio = VirtualMachineIO(\n",
    "    control_CSETs = control_CSETs,\n",
    "    input_RDs = input_RDs,\n",
    "    monitor_PVs = output_RDs,\n",
    "    input_min = input_min,\n",
    "    input_max = input_max,\n",
    "    monitor_min = output_min,\n",
    "    monitor_max = output_max,\n",
    ")"
   ]
  },
  {
   "cell_type": "markdown",
   "id": "1bc6b2b7",
   "metadata": {},
   "source": [
    "# obj_func\n",
    "\n",
    ": rastirigin over 2D latent space of random NN for both high-dim and visualization"
   ]
  },
  {
   "cell_type": "code",
   "execution_count": null,
   "id": "f1e11a16-abac-4d52-8bae-63f47c444911",
   "metadata": {},
   "outputs": [],
   "source": [
    "def rastrigin(x,noise=noise):\n",
    "    x = torch.as_tensor(x)\n",
    "    b,d = x.shape\n",
    "    y = torch.sum(x**2 - torch.cos(2*np.pi*x),axis=1)/d +1\n",
    "    return 1-y + torch.randn(b)*noise"
   ]
  },
  {
   "cell_type": "code",
   "execution_count": null,
   "id": "bacf6c71-a6de-45dd-9ba0-aa32a0ae421e",
   "metadata": {},
   "outputs": [],
   "source": [
    "grid = np.linspace(-2,2,128)\n",
    "x1,x2 = np.meshgrid(grid,grid)\n",
    "xgrid = np.vstack((x1.flatten(), x2.flatten())).T\n",
    "ygrid = rastrigin(xgrid,noise=0)\n",
    "def plot_contour():\n",
    "    fig,ax = plt.subplots(figsize=(4,3.3),dpi=128)\n",
    "    cs = ax.tricontourf(xgrid[:,0],xgrid[:,1],ygrid,levels=32)\n",
    "    fig.colorbar(cs,ax=ax)\n",
    "    return fig,ax"
   ]
  },
  {
   "cell_type": "code",
   "execution_count": null,
   "id": "916a74c4-3ae0-4efb-b277-e5e8ef38e74d",
   "metadata": {},
   "outputs": [],
   "source": [
    "objfunc = SingleTaskObjectiveFunction(\n",
    "    objective_PVs = output_RDs,\n",
    "    composite_objective_name = 'rastrigin',\n",
    "    custom_function = rastrigin,\n",
    "    objective_goal = None, \n",
    "    objective_weight = None,\n",
    "    objective_tolerance = None,\n",
    ")"
   ]
  },
  {
   "cell_type": "code",
   "execution_count": null,
   "id": "bd1366b4-545d-4867-8cd1-3aa077b82f0b",
   "metadata": {},
   "outputs": [],
   "source": [
    "evaluator = Evaluator(\n",
    "    machineIO = vmio,\n",
    "    input_CSETs = input_CSETs,\n",
    "    input_RDs = input_RDs,\n",
    "    input_tols = input_tols,\n",
    "    output_RDs = output_RDs,\n",
    "    df_manipulators = [objfunc.calculate_objectives_from_df],\n",
    ")"
   ]
  },
  {
   "cell_type": "markdown",
   "id": "854f2746",
   "metadata": {},
   "source": [
    "# SAVO"
   ]
  },
  {
   "cell_type": "code",
   "execution_count": null,
   "id": "99142c23-5df4-4186-8419-fe43e74fd707",
   "metadata": {},
   "outputs": [],
   "source": [
    "x0 = torch.rand(input_max.shape)*(input_max-input_min) + input_min"
   ]
  },
  {
   "cell_type": "code",
   "execution_count": null,
   "id": "600ebc8a-ea7c-4648-bf0f-caf5b581dfce",
   "metadata": {},
   "outputs": [],
   "source": [
    "sv = savo(x0, max_dx, input_min, input_max, evaluator)"
   ]
  },
  {
   "cell_type": "code",
   "execution_count": null,
   "id": "558b04a3-6222-4175-af34-64edf960ade2",
   "metadata": {},
   "outputs": [],
   "source": [
    "sv.runES(200)\n",
    "fig, ax = plt.subplots(figsize=(4,3),dpi=128)\n",
    "ax.plot(sv.history['y']);\n",
    "ax.set_xlabel('epoch');\n",
    "ax.set_ylabel('objective');\n",
    "\n",
    "fig, ax = plot_contour()\n",
    "ax.plot(sv['x_history'][i][:,0],B['x_history'][i][:,1],color='C'+str(i),lw=0.2,alpha=0.3)"
   ]
  },
  {
   "cell_type": "code",
   "execution_count": null,
   "id": "471f0e11",
   "metadata": {},
   "outputs": [],
   "source": [
    "fig, ax = plt.subplots(figsize=(4,3),dpi=128)\n",
    "ax.plot(obj_func.history['y']);\n",
    "ax.set_xlabel('epoch');\n",
    "ax.set_ylabel('objective');"
   ]
  },
  {
   "cell_type": "code",
   "execution_count": null,
   "id": "3803f624-77ae-4a0f-b538-0cc42711a234",
   "metadata": {},
   "outputs": [],
   "source": [
    "fig, ax = plt.subplots(figsize=(3.3*1.5,2.5*1.5),dpi=256)\n",
    "cs = ax.tricontourf(x[:,0],x[:,1],y, levels=64, cmap=\"viridis\");\n",
    "fig.colorbar(cs,ax=ax,shrink=0.95)\n",
    "z = np.array(obj_func.history['z'])\n",
    "ax.scatter(z[:,0],z[:,1],color='k',s=2)\n",
    "for i in range(len(z) - 1):\n",
    "    dx = z[i + 1, 0] - z[i, 0]\n",
    "    dy = z[i + 1, 1] - z[i, 1]\n",
    "    distance = np.sqrt(dx**2 + dy**2)\n",
    "    # Scale arrowhead size based on the distance\n",
    "    head_size = distance * 0.28  # Adjust 0.2 as a scaling factor if needed\n",
    "    ax.arrow(z[i, 0]+0.2*dx, z[i, 1]+0.2*dy, \n",
    "              0.6*dx, 0.6*dy,\n",
    "              color='r', alpha=0.7, \n",
    "              width = 0.02*head_size,\n",
    "              head_width=0.8*head_size, \n",
    "              head_length=head_size, \n",
    "              length_includes_head=True)\n",
    "ax.scatter(z[0,0],z[0,1],marker='x',color='orange')\n",
    "ax.set_xlim(z[:,0].min()-0.1,z[:,0].max()+0.1);\n",
    "ax.set_ylim(z[:,1].min()-0.1,z[:,1].max()+0.1);\n",
    "fig.tight_layout()"
   ]
  },
  {
   "cell_type": "code",
   "execution_count": null,
   "id": "bda58df0-170d-46e8-a07c-54888d884eb9",
   "metadata": {},
   "outputs": [],
   "source": [
    "obj_SAVO = obj_func"
   ]
  },
  {
   "cell_type": "markdown",
   "id": "70901f16-fd6e-4a18-b7b6-d644280316b1",
   "metadata": {},
   "source": [
    "# SAVO with Adam"
   ]
  },
  {
   "cell_type": "code",
   "execution_count": null,
   "id": "588ec596-cc4b-4090-ae33-811fc00a88b4",
   "metadata": {},
   "outputs": [],
   "source": [
    "obj_func = const_obj_func()\n",
    "sv = savo(obj_func= obj_func,\n",
    "          x0 = x0,\n",
    "          max_dx = max_dx,\n",
    "          x_bounds = x_bounds,\n",
    "          )"
   ]
  },
  {
   "cell_type": "code",
   "execution_count": null,
   "id": "b4f25bb9-9e79-4d4d-ae47-16ef59e3f950",
   "metadata": {},
   "outputs": [],
   "source": [
    "sv.runES(ninit)\n",
    "sv.run_savo(budget-ninit,lambdaES=1,lr=lr,adam=True)"
   ]
  },
  {
   "cell_type": "code",
   "execution_count": null,
   "id": "e3a3e241-047b-43ee-93c8-228f09866425",
   "metadata": {},
   "outputs": [],
   "source": [
    "fig, ax = plt.subplots(figsize=(4,3),dpi=128)\n",
    "ax.plot(obj_func.history['y']);\n",
    "ax.set_xlabel('epoch');\n",
    "ax.set_ylabel('objective');"
   ]
  },
  {
   "cell_type": "code",
   "execution_count": null,
   "id": "3518506d-f19f-4097-b34d-6cfb6af08e75",
   "metadata": {},
   "outputs": [],
   "source": [
    "fig, ax = plt.subplots(figsize=(3.3*1.5,2.5*1.5),dpi=256)\n",
    "cs = ax.tricontourf(x[:,0],x[:,1],y, levels=64, cmap=\"viridis\");\n",
    "fig.colorbar(cs,ax=ax,shrink=0.95)\n",
    "z = np.array(obj_func.history['z'])\n",
    "ax.scatter(z[:,0],z[:,1],color='k',s=2)\n",
    "for i in range(len(z) - 1):\n",
    "    dx = z[i + 1, 0] - z[i, 0]\n",
    "    dy = z[i + 1, 1] - z[i, 1]\n",
    "    distance = np.sqrt(dx**2 + dy**2)\n",
    "    # Scale arrowhead size based on the distance\n",
    "    head_size = distance * 0.28  # Adjust 0.2 as a scaling factor if needed\n",
    "    ax.arrow(z[i, 0]+0.2*dx, z[i, 1]+0.2*dy, \n",
    "              0.6*dx, 0.6*dy,\n",
    "              color='r', alpha=0.7, \n",
    "              width = 0.02*head_size,\n",
    "              head_width=0.8*head_size, \n",
    "              head_length=head_size, \n",
    "              length_includes_head=True)\n",
    "ax.scatter(z[0,0],z[0,1],marker='x',color='orange')\n",
    "ax.set_xlim(z[:,0].min()-0.1,z[:,0].max()+0.1);\n",
    "ax.set_ylim(z[:,1].min()-0.1,z[:,1].max()+0.1);\n",
    "fig.tight_layout()"
   ]
  },
  {
   "cell_type": "code",
   "execution_count": null,
   "id": "2ad94cd5-7edc-4f22-89c3-2be46bc9132d",
   "metadata": {},
   "outputs": [],
   "source": [
    "obj_ADAM = obj_func"
   ]
  },
  {
   "cell_type": "markdown",
   "id": "ea42a1f7",
   "metadata": {},
   "source": [
    "# SAVO without ES"
   ]
  },
  {
   "cell_type": "code",
   "execution_count": null,
   "id": "d2b362ef",
   "metadata": {},
   "outputs": [],
   "source": [
    "obj_func = const_obj_func()\n",
    "sv = savo(obj_func= obj_func,\n",
    "          x0 = x0,\n",
    "          max_dx = max_dx,\n",
    "          x_bounds = x_bounds,\n",
    "          )"
   ]
  },
  {
   "cell_type": "code",
   "execution_count": null,
   "id": "b0ef2caf",
   "metadata": {},
   "outputs": [],
   "source": [
    "sv.runES(ninit)\n",
    "sv.run_savo(budget-ninit,lambdaES=0,lr=lr)"
   ]
  },
  {
   "cell_type": "code",
   "execution_count": null,
   "id": "b1172a5a",
   "metadata": {},
   "outputs": [],
   "source": [
    "fig, ax = plt.subplots(figsize=(4,3),dpi=128)\n",
    "ax.plot(obj_func.history['y']);\n",
    "ax.set_xlabel('epoch');\n",
    "ax.set_ylabel('objective');"
   ]
  },
  {
   "cell_type": "code",
   "execution_count": null,
   "id": "f4566142-ec1d-4900-969e-2782f185cc14",
   "metadata": {},
   "outputs": [],
   "source": [
    "fig, ax = plt.subplots(figsize=(3.3*1.5,2.5*1.5),dpi=256)\n",
    "cs = ax.tricontourf(x[:,0],x[:,1],y, levels=64, cmap=\"viridis\");\n",
    "fig.colorbar(cs,ax=ax,shrink=0.95)\n",
    "z = np.array(obj_func.history['z'])\n",
    "ax.scatter(z[:,0],z[:,1],color='k',s=2)\n",
    "for i in range(len(z) - 1):\n",
    "    dx = z[i + 1, 0] - z[i, 0]\n",
    "    dy = z[i + 1, 1] - z[i, 1]\n",
    "    distance = np.sqrt(dx**2 + dy**2)\n",
    "    # Scale arrowhead size based on the distance\n",
    "    head_size = distance * 0.28  # Adjust 0.2 as a scaling factor if needed\n",
    "    ax.arrow(z[i, 0]+0.2*dx, z[i, 1]+0.2*dy, \n",
    "              0.6*dx, 0.6*dy,\n",
    "              color='r', alpha=0.7, \n",
    "              width = 0.02*head_size,\n",
    "              head_width=0.8*head_size, \n",
    "              head_length=head_size, \n",
    "              length_includes_head=True)\n",
    "ax.scatter(z[0,0],z[0,1],marker='x',color='orange')\n",
    "ax.set_xlim(z[:,0].min()-0.1,z[:,0].max()+0.1);\n",
    "ax.set_ylim(z[:,1].min()-0.1,z[:,1].max()+0.1);\n",
    "fig.tight_layout()"
   ]
  },
  {
   "cell_type": "code",
   "execution_count": null,
   "id": "73ddb292-4d9b-41e3-a706-c1f859fe8ca9",
   "metadata": {},
   "outputs": [],
   "source": [
    "obj_SAVO_noES = obj_func"
   ]
  },
  {
   "cell_type": "markdown",
   "id": "8275578f-05c5-4c2a-97b7-d6fc767b81da",
   "metadata": {},
   "source": [
    "# SAVO ADAM without ES"
   ]
  },
  {
   "cell_type": "code",
   "execution_count": null,
   "id": "3e051b0d-6613-468f-a1a5-63d48e0c10f6",
   "metadata": {},
   "outputs": [],
   "source": [
    "obj_func = const_obj_func()\n",
    "sv = savo(obj_func= obj_func,\n",
    "          x0 = x0,\n",
    "          max_dx = max_dx,\n",
    "          x_bounds = x_bounds,\n",
    "          )"
   ]
  },
  {
   "cell_type": "code",
   "execution_count": null,
   "id": "a5976785-6079-466a-a67f-eb52daf05162",
   "metadata": {},
   "outputs": [],
   "source": [
    "sv.runES(ninit)\n",
    "sv.run_savo(budget-ninit,lambdaES=0,lr=lr,adam=True)"
   ]
  },
  {
   "cell_type": "code",
   "execution_count": null,
   "id": "899b0222-c344-4a47-b2c9-dce6fa2c6b26",
   "metadata": {},
   "outputs": [],
   "source": [
    "fig, ax = plt.subplots(figsize=(4,3),dpi=128)\n",
    "ax.plot(obj_func.history['y']);\n",
    "ax.set_xlabel('epoch');\n",
    "ax.set_ylabel('objective');"
   ]
  },
  {
   "cell_type": "code",
   "execution_count": null,
   "id": "2e9237ce-c5be-410f-8006-8c1d2fa8af9d",
   "metadata": {},
   "outputs": [],
   "source": [
    "fig, ax = plt.subplots(figsize=(3.3*1.5,2.5*1.5),dpi=256)\n",
    "cs = ax.tricontourf(x[:,0],x[:,1],y, levels=64, cmap=\"viridis\");\n",
    "fig.colorbar(cs,ax=ax,shrink=0.95)\n",
    "z = np.array(obj_func.history['z'])\n",
    "ax.scatter(z[:,0],z[:,1],color='k',s=2)\n",
    "for i in range(len(z) - 1):\n",
    "    dx = z[i + 1, 0] - z[i, 0]\n",
    "    dy = z[i + 1, 1] - z[i, 1]\n",
    "    distance = np.sqrt(dx**2 + dy**2)\n",
    "    # Scale arrowhead size based on the distance\n",
    "    head_size = distance * 0.28  # Adjust 0.2 as a scaling factor if needed\n",
    "    ax.arrow(z[i, 0]+0.2*dx, z[i, 1]+0.2*dy, \n",
    "              0.6*dx, 0.6*dy,\n",
    "              color='r', alpha=0.7, \n",
    "              width = 0.02*head_size,\n",
    "              head_width=0.8*head_size, \n",
    "              head_length=head_size, \n",
    "              length_includes_head=True)\n",
    "ax.scatter(z[0,0],z[0,1],marker='x',color='orange')\n",
    "ax.set_xlim(z[:,0].min()-0.1,z[:,0].max()+0.1);\n",
    "ax.set_ylim(z[:,1].min()-0.1,z[:,1].max()+0.1);\n",
    "fig.tight_layout()"
   ]
  },
  {
   "cell_type": "code",
   "execution_count": null,
   "id": "549da4ea-aaaa-4803-bc71-f176d4d3c4d5",
   "metadata": {},
   "outputs": [],
   "source": [
    "obj_ADAM_noES = obj_func"
   ]
  },
  {
   "cell_type": "markdown",
   "id": "fdba6eb5-d0b2-4e78-aafe-5f8c1077c095",
   "metadata": {},
   "source": [
    "# plot all"
   ]
  },
  {
   "cell_type": "code",
   "execution_count": null,
   "id": "fe88216a-790a-4cbb-8751-6e757cb42969",
   "metadata": {},
   "outputs": [],
   "source": [
    "obj_funcs = [obj_NM, obj_ES, obj_SAVO, obj_ADAM, obj_SAVO_noES, obj_ADAM_noES]\n",
    "obj_funcs_labels = ['Nelder-Mead', 'ES', 'ES+SG', 'ES+adamSG', 'SG', 'adamSG']"
   ]
  },
  {
   "cell_type": "code",
   "execution_count": null,
   "id": "6ed97354-0096-44f5-b8d2-9e89ab8e3f9b",
   "metadata": {},
   "outputs": [],
   "source": [
    "fig, ax = plt.subplots(figsize=(3.3*1.5,1),dpi=96)\n",
    "i = 0\n",
    "for obj_func, label in zip(obj_funcs,obj_funcs_labels) :\n",
    "    if  i==1:\n",
    "        break\n",
    "    ax.plot(obj_func.history['y'],label=label);\n",
    "    i+=1\n",
    "ax.plot(obj_func.history['y'],label='others');\n",
    "ax.set_xlabel('epoch');\n",
    "ax.set_ylabel('objective');\n",
    "ax.set_ylim(-1.26,-1.22)\n",
    "ax.legend(loc='center left', bbox_to_anchor=(1, 0.5))"
   ]
  },
  {
   "cell_type": "code",
   "execution_count": null,
   "id": "40f71a84-d1de-4bb6-8377-a48354fea6a6",
   "metadata": {},
   "outputs": [],
   "source": [
    "fig, ax = plt.subplots(figsize=(3.3*1.5,2*1.5),dpi=96)\n",
    "for obj_func, label in zip(obj_funcs,obj_funcs_labels) :\n",
    "    ax.plot(obj_func.history['y'],label=label);\n",
    "ax.set_xlabel('epoch');\n",
    "ax.set_ylabel('objective');\n",
    "ax.legend(loc='center left', bbox_to_anchor=(1, 0.5))"
   ]
  },
  {
   "cell_type": "code",
   "execution_count": null,
   "id": "f7b5c128-e11b-438a-a1ba-cc0650009a32",
   "metadata": {},
   "outputs": [],
   "source": []
  },
  {
   "cell_type": "code",
   "execution_count": null,
   "id": "c27083db-3e91-4c95-83d9-6158f6305c2d",
   "metadata": {},
   "outputs": [],
   "source": []
  }
 ],
 "metadata": {
  "kernelspec": {
   "display_name": "Python 3 (ipykernel)",
   "language": "python",
   "name": "python3"
  },
  "language_info": {
   "codemirror_mode": {
    "name": "ipython",
    "version": 3
   },
   "file_extension": ".py",
   "mimetype": "text/x-python",
   "name": "python",
   "nbconvert_exporter": "python",
   "pygments_lexer": "ipython3",
   "version": "3.11.2"
  }
 },
 "nbformat": 4,
 "nbformat_minor": 5
}
